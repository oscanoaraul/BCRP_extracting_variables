{
 "cells": [
  {
   "attachments": {},
   "cell_type": "markdown",
   "metadata": {},
   "source": [
    "# **Web Scrapping** (Aplicación)"
   ]
  },
  {
   "attachments": {},
   "cell_type": "markdown",
   "metadata": {},
   "source": [
    "## ****Importando Paquetes****"
   ]
  },
  {
   "cell_type": "code",
   "execution_count": 2,
   "metadata": {},
   "outputs": [],
   "source": [
    "#Otros paquetes\n",
    "import os\n",
    "import re\n",
    "import lxml\n",
    "\n",
    "#Paquete Pandas\n",
    "import pandas as pd\n",
    "\n",
    "#Paquete time\n",
    "import time\n",
    "\n",
    "#Paquete matplotlib\n",
    "import matplotlib as mpl\n",
    "import matplotlib.pyplot as plt\n",
    "\n",
    "#Paquete numpy\n",
    "import numpy as np\n",
    "\n",
    "#Paquete Selenium\n",
    "from selenium import webdriver\n",
    "from webdriver_manager.chrome import ChromeDriverManager\n",
    "from selenium.webdriver.chrome.service import Service as ChromeService\n",
    "from selenium.webdriver.common.by import By\n",
    "from selenium.webdriver.common.action_chains import ActionChains\n",
    "from selenium.webdriver.support import expected_conditions\n",
    "from selenium.webdriver.support.wait import WebDriverWait\n",
    "from selenium.webdriver.common.keys import Keys\n",
    "from selenium.webdriver.chrome.options import Options\n",
    "from selenium.webdriver.common.desired_capabilities import DesiredCapabilities\n",
    "from time import sleep"
   ]
  },
  {
   "attachments": {},
   "cell_type": "markdown",
   "metadata": {},
   "source": [
    "## ****Descripción del Ejercicio****"
   ]
  },
  {
   "attachments": {},
   "cell_type": "markdown",
   "metadata": {},
   "source": [
    "### Se va a extraer datos del BCRP de las siguientes variables:"
   ]
  },
  {
   "attachments": {},
   "cell_type": "markdown",
   "metadata": {},
   "source": [
    "***-Consumo Privado***\n",
    "\n",
    "***-Inversión Bruta Interna***\n",
    "\n",
    "***-Exportaciones***\n",
    "\n",
    "***-Importaciones***"
   ]
  },
  {
   "attachments": {},
   "cell_type": "markdown",
   "metadata": {},
   "source": [
    "## Consumo Privado"
   ]
  },
  {
   "attachments": {},
   "cell_type": "markdown",
   "metadata": {},
   "source": [
    "### Programando el Selenium"
   ]
  },
  {
   "cell_type": "code",
   "execution_count": 3,
   "metadata": {},
   "outputs": [],
   "source": [
    "options = webdriver.ChromeOptions()\n",
    "options.add_argument('--disable-notifications')\n",
    "driver = webdriver.Chrome(service=ChromeService(ChromeDriverManager().install()), options=options)"
   ]
  },
  {
   "attachments": {},
   "cell_type": "markdown",
   "metadata": {},
   "source": [
    "### Entrando a la página"
   ]
  },
  {
   "cell_type": "code",
   "execution_count": 4,
   "metadata": {},
   "outputs": [],
   "source": [
    "driver.get(\"https://estadisticas.bcrp.gob.pe/estadisticas/series/\")\n",
    "\n",
    "sleep(2) #Tiempo de espera"
   ]
  },
  {
   "attachments": {},
   "cell_type": "markdown",
   "metadata": {},
   "source": [
    "### Haciendo click en PBI Gasto"
   ]
  },
  {
   "cell_type": "code",
   "execution_count": 5,
   "metadata": {},
   "outputs": [],
   "source": [
    "driver.find_element(By.XPATH, \"/html/body/div[3]/div/table/tbody/tr/td[2]/a[26]/u\").click()\n",
    "\n",
    "sleep(2)"
   ]
  },
  {
   "attachments": {},
   "cell_type": "markdown",
   "metadata": {},
   "source": [
    "### Cambiando a series anuales"
   ]
  },
  {
   "cell_type": "code",
   "execution_count": 6,
   "metadata": {},
   "outputs": [],
   "source": [
    "driver.find_element(By.XPATH, \"/html/body/div[3]/table/tbody/tr/td[2]/form/ul/li[2]/a\").click()\n",
    "\n",
    "sleep(2)"
   ]
  },
  {
   "attachments": {},
   "cell_type": "markdown",
   "metadata": {},
   "source": [
    "### Precios constantes del 2007"
   ]
  },
  {
   "cell_type": "code",
   "execution_count": 7,
   "metadata": {},
   "outputs": [],
   "source": [
    "driver.find_element(By.XPATH, \"/html/body/div[3]/table/tbody/tr/td[2]/form/div[2]/h2/a\").click()\n",
    "\n",
    "sleep(2)"
   ]
  },
  {
   "attachments": {},
   "cell_type": "markdown",
   "metadata": {},
   "source": [
    "### Escogiendo consumo privado"
   ]
  },
  {
   "cell_type": "code",
   "execution_count": 8,
   "metadata": {},
   "outputs": [],
   "source": [
    "driver.find_element(By.XPATH, \"/html/body/div[3]/table/tbody/tr/td[2]/form/div[2]/div/table/tbody/tr[3]/td[3]/a\").click()\n",
    "\n",
    "sleep(2)"
   ]
  },
  {
   "attachments": {},
   "cell_type": "markdown",
   "metadata": {},
   "source": [
    "### Elegir el periodo 1990 - 2021"
   ]
  },
  {
   "cell_type": "code",
   "execution_count": 9,
   "metadata": {},
   "outputs": [],
   "source": [
    "driver.find_element(By.XPATH, \"/html/body/div[3]/table/tbody/tr/td[2]/form/div[1]/div[1]/div[1]/div[1]/div[2]/select\").click()\n",
    "\n",
    "driver.find_element(By.XPATH, \"/html/body/div[3]/table/tbody/tr/td[2]/form/div[1]/div[1]/div[1]/div[1]/div[2]/select\").send_keys(\"1990\")\n",
    "\n",
    "sleep(1)\n",
    "\n",
    "driver.find_element(By.XPATH, \"/html/body/div[3]/table/tbody/tr/td[2]/form/div[1]/div[1]/div[2]/p/input[1]\").click()\n",
    "\n",
    "sleep(1)"
   ]
  },
  {
   "attachments": {},
   "cell_type": "markdown",
   "metadata": {},
   "source": [
    "### Extraer tabla:"
   ]
  },
  {
   "cell_type": "code",
   "execution_count": 10,
   "metadata": {},
   "outputs": [],
   "source": [
    "tabla_prueba_consumo = driver.find_element(By.XPATH, \"/html/body/div[3]/table/tbody/tr/td[2]/form/div[3]/table\")\n",
    "\n",
    "tabla_prueba_consumo\n",
    "\n",
    "sleep(2)"
   ]
  },
  {
   "cell_type": "code",
   "execution_count": 11,
   "metadata": {},
   "outputs": [],
   "source": [
    "tabla_intermedia_consumo = pd.read_html(tabla_prueba_consumo.get_attribute('outerHTML'), decimal=',')[0]\n",
    "\n",
    "tabla_intermedia_consumo\n",
    "\n",
    "sleep(2)"
   ]
  },
  {
   "attachments": {},
   "cell_type": "markdown",
   "metadata": {},
   "source": [
    "### Transformando a DataFrame"
   ]
  },
  {
   "cell_type": "code",
   "execution_count": 12,
   "metadata": {},
   "outputs": [
    {
     "data": {
      "text/html": [
       "<div>\n",
       "<style scoped>\n",
       "    .dataframe tbody tr th:only-of-type {\n",
       "        vertical-align: middle;\n",
       "    }\n",
       "\n",
       "    .dataframe tbody tr th {\n",
       "        vertical-align: top;\n",
       "    }\n",
       "\n",
       "    .dataframe thead th {\n",
       "        text-align: right;\n",
       "    }\n",
       "</style>\n",
       "<table border=\"1\" class=\"dataframe\">\n",
       "  <thead>\n",
       "    <tr style=\"text-align: right;\">\n",
       "      <th></th>\n",
       "      <th>Fecha</th>\n",
       "      <th>Producto bruto interno por tipo de gasto (millones S/ 2007) - Demanda Interna - Consumo Privado</th>\n",
       "    </tr>\n",
       "  </thead>\n",
       "  <tbody>\n",
       "    <tr>\n",
       "      <th>0</th>\n",
       "      <td>1990</td>\n",
       "      <td>105735</td>\n",
       "    </tr>\n",
       "    <tr>\n",
       "      <th>1</th>\n",
       "      <td>1991</td>\n",
       "      <td>109665</td>\n",
       "    </tr>\n",
       "    <tr>\n",
       "      <th>2</th>\n",
       "      <td>1992</td>\n",
       "      <td>108852</td>\n",
       "    </tr>\n",
       "    <tr>\n",
       "      <th>3</th>\n",
       "      <td>1993</td>\n",
       "      <td>113680</td>\n",
       "    </tr>\n",
       "    <tr>\n",
       "      <th>4</th>\n",
       "      <td>1994</td>\n",
       "      <td>124433</td>\n",
       "    </tr>\n",
       "    <tr>\n",
       "      <th>5</th>\n",
       "      <td>1995</td>\n",
       "      <td>136275</td>\n",
       "    </tr>\n",
       "    <tr>\n",
       "      <th>6</th>\n",
       "      <td>1996</td>\n",
       "      <td>139501</td>\n",
       "    </tr>\n",
       "    <tr>\n",
       "      <th>7</th>\n",
       "      <td>1997</td>\n",
       "      <td>144555</td>\n",
       "    </tr>\n",
       "    <tr>\n",
       "      <th>8</th>\n",
       "      <td>1998</td>\n",
       "      <td>141698</td>\n",
       "    </tr>\n",
       "    <tr>\n",
       "      <th>9</th>\n",
       "      <td>1999</td>\n",
       "      <td>139666</td>\n",
       "    </tr>\n",
       "    <tr>\n",
       "      <th>10</th>\n",
       "      <td>2000</td>\n",
       "      <td>143191</td>\n",
       "    </tr>\n",
       "    <tr>\n",
       "      <th>11</th>\n",
       "      <td>2001</td>\n",
       "      <td>144629</td>\n",
       "    </tr>\n",
       "    <tr>\n",
       "      <th>12</th>\n",
       "      <td>2002</td>\n",
       "      <td>151674</td>\n",
       "    </tr>\n",
       "    <tr>\n",
       "      <th>13</th>\n",
       "      <td>2003</td>\n",
       "      <td>155487</td>\n",
       "    </tr>\n",
       "    <tr>\n",
       "      <th>14</th>\n",
       "      <td>2004</td>\n",
       "      <td>160769</td>\n",
       "    </tr>\n",
       "    <tr>\n",
       "      <th>15</th>\n",
       "      <td>2005</td>\n",
       "      <td>166654</td>\n",
       "    </tr>\n",
       "    <tr>\n",
       "      <th>16</th>\n",
       "      <td>2006</td>\n",
       "      <td>177006</td>\n",
       "    </tr>\n",
       "    <tr>\n",
       "      <th>17</th>\n",
       "      <td>2007</td>\n",
       "      <td>192316</td>\n",
       "    </tr>\n",
       "    <tr>\n",
       "      <th>18</th>\n",
       "      <td>2008</td>\n",
       "      <td>209437</td>\n",
       "    </tr>\n",
       "    <tr>\n",
       "      <th>19</th>\n",
       "      <td>2009</td>\n",
       "      <td>215885</td>\n",
       "    </tr>\n",
       "    <tr>\n",
       "      <th>20</th>\n",
       "      <td>2010</td>\n",
       "      <td>235492</td>\n",
       "    </tr>\n",
       "    <tr>\n",
       "      <th>21</th>\n",
       "      <td>2011</td>\n",
       "      <td>252507</td>\n",
       "    </tr>\n",
       "    <tr>\n",
       "      <th>22</th>\n",
       "      <td>2012</td>\n",
       "      <td>271305</td>\n",
       "    </tr>\n",
       "    <tr>\n",
       "      <th>23</th>\n",
       "      <td>2013</td>\n",
       "      <td>286857</td>\n",
       "    </tr>\n",
       "    <tr>\n",
       "      <th>24</th>\n",
       "      <td>2014</td>\n",
       "      <td>298045</td>\n",
       "    </tr>\n",
       "    <tr>\n",
       "      <th>25</th>\n",
       "      <td>2015</td>\n",
       "      <td>309917</td>\n",
       "    </tr>\n",
       "    <tr>\n",
       "      <th>26</th>\n",
       "      <td>2016</td>\n",
       "      <td>321383</td>\n",
       "    </tr>\n",
       "    <tr>\n",
       "      <th>27</th>\n",
       "      <td>2017</td>\n",
       "      <td>329870</td>\n",
       "    </tr>\n",
       "    <tr>\n",
       "      <th>28</th>\n",
       "      <td>2018</td>\n",
       "      <td>342501</td>\n",
       "    </tr>\n",
       "    <tr>\n",
       "      <th>29</th>\n",
       "      <td>2019</td>\n",
       "      <td>353615</td>\n",
       "    </tr>\n",
       "    <tr>\n",
       "      <th>30</th>\n",
       "      <td>2020</td>\n",
       "      <td>318739</td>\n",
       "    </tr>\n",
       "    <tr>\n",
       "      <th>31</th>\n",
       "      <td>2021</td>\n",
       "      <td>358285</td>\n",
       "    </tr>\n",
       "  </tbody>\n",
       "</table>\n",
       "</div>"
      ],
      "text/plain": [
       "    Fecha  \\\n",
       "0    1990   \n",
       "1    1991   \n",
       "2    1992   \n",
       "3    1993   \n",
       "4    1994   \n",
       "5    1995   \n",
       "6    1996   \n",
       "7    1997   \n",
       "8    1998   \n",
       "9    1999   \n",
       "10   2000   \n",
       "11   2001   \n",
       "12   2002   \n",
       "13   2003   \n",
       "14   2004   \n",
       "15   2005   \n",
       "16   2006   \n",
       "17   2007   \n",
       "18   2008   \n",
       "19   2009   \n",
       "20   2010   \n",
       "21   2011   \n",
       "22   2012   \n",
       "23   2013   \n",
       "24   2014   \n",
       "25   2015   \n",
       "26   2016   \n",
       "27   2017   \n",
       "28   2018   \n",
       "29   2019   \n",
       "30   2020   \n",
       "31   2021   \n",
       "\n",
       "    Producto bruto interno por tipo de gasto (millones S/ 2007) - Demanda Interna - Consumo Privado  \n",
       "0                                              105735                                                \n",
       "1                                              109665                                                \n",
       "2                                              108852                                                \n",
       "3                                              113680                                                \n",
       "4                                              124433                                                \n",
       "5                                              136275                                                \n",
       "6                                              139501                                                \n",
       "7                                              144555                                                \n",
       "8                                              141698                                                \n",
       "9                                              139666                                                \n",
       "10                                             143191                                                \n",
       "11                                             144629                                                \n",
       "12                                             151674                                                \n",
       "13                                             155487                                                \n",
       "14                                             160769                                                \n",
       "15                                             166654                                                \n",
       "16                                             177006                                                \n",
       "17                                             192316                                                \n",
       "18                                             209437                                                \n",
       "19                                             215885                                                \n",
       "20                                             235492                                                \n",
       "21                                             252507                                                \n",
       "22                                             271305                                                \n",
       "23                                             286857                                                \n",
       "24                                             298045                                                \n",
       "25                                             309917                                                \n",
       "26                                             321383                                                \n",
       "27                                             329870                                                \n",
       "28                                             342501                                                \n",
       "29                                             353615                                                \n",
       "30                                             318739                                                \n",
       "31                                             358285                                                "
      ]
     },
     "execution_count": 12,
     "metadata": {},
     "output_type": "execute_result"
    }
   ],
   "source": [
    "tabla_consumo = pd.DataFrame(tabla_intermedia_consumo)\n",
    "tabla_consumo"
   ]
  },
  {
   "attachments": {},
   "cell_type": "markdown",
   "metadata": {},
   "source": [
    "### Cerrar el Navegador"
   ]
  },
  {
   "cell_type": "code",
   "execution_count": 13,
   "metadata": {},
   "outputs": [],
   "source": [
    "driver.close()"
   ]
  },
  {
   "attachments": {},
   "cell_type": "markdown",
   "metadata": {},
   "source": [
    "## Inversión Bruta Interna"
   ]
  },
  {
   "cell_type": "code",
   "execution_count": 22,
   "metadata": {},
   "outputs": [],
   "source": [
    "### Programando el Selenium\n",
    "options = webdriver.ChromeOptions()\n",
    "options.add_argument('--disable-notifications')\n",
    "driver = webdriver.Chrome(service=ChromeService(ChromeDriverManager().install()), options=options)\n",
    "### Entrando a la página\n",
    "driver.get(\"https://estadisticas.bcrp.gob.pe/estadisticas/series/\")\n",
    "\n",
    "sleep(2) #Tiempo de espera\n",
    "### Haciendo click en PBI Gasto\n",
    "driver.find_element(By.XPATH, \"/html/body/div[3]/div/table/tbody/tr/td[2]/a[26]/u\").click()\n",
    "\n",
    "sleep(2)\n",
    "### Cambiando a series anuales\n",
    "driver.find_element(By.XPATH, \"/html/body/div[3]/table/tbody/tr/td[2]/form/ul/li[2]/a\").click()\n",
    "\n",
    "sleep(2)\n",
    "### Precios constantes del 2007\n",
    "driver.find_element(By.XPATH, \"/html/body/div[3]/table/tbody/tr/td[2]/form/div[2]/h2/a\").click()\n",
    "\n",
    "sleep(2)\n",
    "### Escogiendo inversión bruta interna\n",
    "driver.find_element(By.XPATH, \"/html/body/div[3]/table/tbody/tr/td[2]/form/div[2]/div/table/tbody/tr[5]/td[3]/a\").click()\n",
    "\n",
    "sleep(2)\n",
    "### Elegir el periodo 1990 - 2021\n",
    "driver.find_element(By.XPATH, \"/html/body/div[3]/table/tbody/tr/td[2]/form/div[1]/div[1]/div[1]/div[1]/div[2]/select\").click()\n",
    "\n",
    "driver.find_element(By.XPATH, \"/html/body/div[3]/table/tbody/tr/td[2]/form/div[1]/div[1]/div[1]/div[1]/div[2]/select\").send_keys(\"1990\")\n",
    "\n",
    "sleep(1)\n",
    "\n",
    "driver.find_element(By.XPATH, \"/html/body/div[3]/table/tbody/tr/td[2]/form/div[1]/div[1]/div[2]/p/input[1]\").click()\n",
    "\n",
    "sleep(1)\n",
    "### Extraer tabla:\n",
    "tabla_prueba_inversion = driver.find_element(By.XPATH, \"/html/body/div[3]/table/tbody/tr/td[2]/form/div[3]/table\")\n",
    "\n",
    "tabla_prueba_inversion\n",
    "\n",
    "sleep(2)\n",
    "tabla_intermedia_inversion = pd.read_html(tabla_prueba_inversion.get_attribute('outerHTML'), decimal=',')[0]\n",
    "\n",
    "tabla_intermedia_inversion\n",
    "\n",
    "sleep(2)\n",
    "### Transformando a DataFrame\n",
    "tabla_inversion = pd.DataFrame(tabla_intermedia_inversion)\n",
    "tabla_inversion\n",
    "### Cerrar el Navegador\n",
    "driver.close()"
   ]
  },
  {
   "attachments": {},
   "cell_type": "markdown",
   "metadata": {},
   "source": [
    "## Expotaciones"
   ]
  },
  {
   "cell_type": "code",
   "execution_count": 25,
   "metadata": {},
   "outputs": [],
   "source": [
    "### Programando el Selenium\n",
    "options = webdriver.ChromeOptions()\n",
    "options.add_argument('--disable-notifications')\n",
    "driver = webdriver.Chrome(service=ChromeService(ChromeDriverManager().install()), options=options)\n",
    "### Entrando a la página\n",
    "driver.get(\"https://estadisticas.bcrp.gob.pe/estadisticas/series/\")\n",
    "\n",
    "sleep(2) #Tiempo de espera\n",
    "### Haciendo click en PBI Gasto\n",
    "driver.find_element(By.XPATH, \"/html/body/div[3]/div/table/tbody/tr/td[2]/a[26]/u\").click()\n",
    "\n",
    "sleep(2)\n",
    "### Cambiando a series anuales\n",
    "driver.find_element(By.XPATH, \"/html/body/div[3]/table/tbody/tr/td[2]/form/ul/li[2]/a\").click()\n",
    "\n",
    "sleep(2)\n",
    "### Precios constantes del 2007\n",
    "driver.find_element(By.XPATH, \"/html/body/div[3]/table/tbody/tr/td[2]/form/div[2]/h2/a\").click()\n",
    "\n",
    "sleep(2)\n",
    "### Escogiendo exportaciones\n",
    "driver.find_element(By.XPATH, \"/html/body/div[3]/table/tbody/tr/td[2]/form/div[2]/div/table/tbody/tr[10]/td[3]/a\").click()\n",
    "\n",
    "sleep(2)\n",
    "### Elegir el periodo 1990 - 2021\n",
    "driver.find_element(By.XPATH, \"/html/body/div[3]/table/tbody/tr/td[2]/form/div[1]/div[1]/div[1]/div[1]/div[2]/select\").click()\n",
    "\n",
    "driver.find_element(By.XPATH, \"/html/body/div[3]/table/tbody/tr/td[2]/form/div[1]/div[1]/div[1]/div[1]/div[2]/select\").send_keys(\"1990\")\n",
    "\n",
    "sleep(1)\n",
    "\n",
    "driver.find_element(By.XPATH, \"/html/body/div[3]/table/tbody/tr/td[2]/form/div[1]/div[1]/div[2]/p/input[1]\").click()\n",
    "\n",
    "sleep(1)\n",
    "### Extraer tabla:\n",
    "tabla_prueba_exportaciones = driver.find_element(By.XPATH, \"/html/body/div[3]/table/tbody/tr/td[2]/form/div[3]/table\")\n",
    "\n",
    "tabla_prueba_exportaciones\n",
    "\n",
    "sleep(2)\n",
    "tabla_intermedia_exportaciones = pd.read_html(tabla_prueba_exportaciones.get_attribute('outerHTML'), decimal=',')[0]\n",
    "\n",
    "tabla_intermedia_exportaciones\n",
    "\n",
    "sleep(2)\n",
    "### Transformando a DataFrame\n",
    "tabla_exportaciones = pd.DataFrame(tabla_intermedia_exportaciones)\n",
    "tabla_exportaciones\n",
    "### Cerrar el Navegador\n",
    "driver.close()"
   ]
  },
  {
   "attachments": {},
   "cell_type": "markdown",
   "metadata": {},
   "source": [
    "## Importaciones"
   ]
  },
  {
   "cell_type": "code",
   "execution_count": 27,
   "metadata": {},
   "outputs": [],
   "source": [
    "### Programando el Selenium\n",
    "options = webdriver.ChromeOptions()\n",
    "options.add_argument('--disable-notifications')\n",
    "driver = webdriver.Chrome(service=ChromeService(ChromeDriverManager().install()), options=options)\n",
    "### Entrando a la página\n",
    "driver.get(\"https://estadisticas.bcrp.gob.pe/estadisticas/series/\")\n",
    "\n",
    "sleep(2) #Tiempo de espera\n",
    "### Haciendo click en PBI Gasto\n",
    "driver.find_element(By.XPATH, \"/html/body/div[3]/div/table/tbody/tr/td[2]/a[26]/u\").click()\n",
    "\n",
    "sleep(2)\n",
    "### Cambiando a series anuales\n",
    "driver.find_element(By.XPATH, \"/html/body/div[3]/table/tbody/tr/td[2]/form/ul/li[2]/a\").click()\n",
    "\n",
    "sleep(2)\n",
    "### Precios constantes del 2007\n",
    "driver.find_element(By.XPATH, \"/html/body/div[3]/table/tbody/tr/td[2]/form/div[2]/h2/a\").click()\n",
    "\n",
    "sleep(2)\n",
    "### Escogiendo importaciones\n",
    "driver.find_element(By.XPATH, \"/html/body/div[3]/table/tbody/tr/td[2]/form/div[2]/div/table/tbody/tr[11]/td[3]/a\").click()\n",
    "\n",
    "sleep(2)\n",
    "### Elegir el periodo 1990 - 2021\n",
    "driver.find_element(By.XPATH, \"/html/body/div[3]/table/tbody/tr/td[2]/form/div[1]/div[1]/div[1]/div[1]/div[2]/select\").click()\n",
    "\n",
    "driver.find_element(By.XPATH, \"/html/body/div[3]/table/tbody/tr/td[2]/form/div[1]/div[1]/div[1]/div[1]/div[2]/select\").send_keys(\"1990\")\n",
    "\n",
    "sleep(1)\n",
    "\n",
    "driver.find_element(By.XPATH, \"/html/body/div[3]/table/tbody/tr/td[2]/form/div[1]/div[1]/div[2]/p/input[1]\").click()\n",
    "\n",
    "sleep(1)\n",
    "### Extraer tabla:\n",
    "tabla_prueba_importaciones = driver.find_element(By.XPATH, \"/html/body/div[3]/table/tbody/tr/td[2]/form/div[3]/table\")\n",
    "\n",
    "tabla_prueba_importaciones\n",
    "\n",
    "sleep(2)\n",
    "tabla_intermedia_importaciones = pd.read_html(tabla_prueba_importaciones.get_attribute('outerHTML'), decimal=',')[0]\n",
    "\n",
    "tabla_intermedia_importaciones\n",
    "\n",
    "sleep(2)\n",
    "### Transformando a DataFrame\n",
    "tabla_importaciones = pd.DataFrame(tabla_intermedia_importaciones)\n",
    "tabla_importaciones\n",
    "### Cerrar el Navegador\n",
    "driver.close()"
   ]
  },
  {
   "attachments": {},
   "cell_type": "markdown",
   "metadata": {},
   "source": [
    "## ****Graficando****"
   ]
  },
  {
   "attachments": {},
   "cell_type": "markdown",
   "metadata": {},
   "source": [
    "### Definiendo Variables\n"
   ]
  },
  {
   "cell_type": "code",
   "execution_count": 31,
   "metadata": {},
   "outputs": [],
   "source": [
    "years = tabla_consumo.iloc[:, 0]\n",
    "consumo = tabla_consumo.iloc[:, 1]\n",
    "inversion = tabla_inversion.iloc[:, 1]\n",
    "importaciones = tabla_importaciones.iloc[:, 1]\n",
    "exportaciones = tabla_exportaciones.iloc[:, 1]"
   ]
  },
  {
   "cell_type": "code",
   "execution_count": null,
   "metadata": {},
   "outputs": [],
   "source": [
    "plt.figure(figsize=(10, 10))\n",
    "plt.subplot(221)\n",
    "plt.plot(years, consumo)\n",
    "plt.subplot(222)\n",
    "plt.plot(years, inversion)\n",
    "plt.subplot(223)\n",
    "plt.plot(years, importaciones)\n",
    "plt.subplot(224)\n",
    "plt.plot(years, exportaciones)\n",
    "plt.suptitle('Evolución de los componentes del PBI')\n",
    "plt.show()"
   ]
  },
  {
   "cell_type": "code",
   "execution_count": 44,
   "metadata": {},
   "outputs": [
    {
     "data": {
      "image/png": "[encoded data removed]",
      "text/plain": [
       "<Figure size 640x480 with 4 Axes>"
      ]
     },
     "metadata": {},
     "output_type": "display_data"
    }
   ],
   "source": [
    "fig, axs = plt.subplots(2, 2)\n",
    "\n",
    "# Consumo\n",
    "axs[0, 0].plot(years, consumo)\n",
    "axs[0, 0].set_title(\"Consumo\")\n",
    "\n",
    "# Inversion\n",
    "axs[1, 0].plot(years, inversion)\n",
    "axs[1, 0].set_title(\"Inversión\")\n",
    "\n",
    "# Importaciones\n",
    "axs[0, 1].plot(years, importaciones)\n",
    "axs[0, 1].set_title(\"Importaciones\")\n",
    "\n",
    "# Exportaciones\n",
    "axs[1, 1].plot(years, exportaciones)\n",
    "axs[1, 1].set_title(\"Exportaciones\")\n",
    "\n",
    "plt.suptitle('Evolución de los componentes del PBI (Millones de soles 2007)')\n",
    "plt.tight_layout()\n",
    "plt.show()\n"
   ]
  }
 ],
 "metadata": {
  "kernelspec": {
   "display_name": "Python 3",
   "language": "python",
   "name": "python3"
  },
  "language_info": {
   "codemirror_mode": {
    "name": "ipython",
    "version": 3
   },
   "file_extension": ".py",
   "mimetype": "text/x-python",
   "name": "python",
   "nbconvert_exporter": "python",
   "pygments_lexer": "ipython3",
   "version": "3.11.0"
  },
  "orig_nbformat": 4,
  "vscode": {
   "interpreter": {
    "hash": "5d88dd9da743da63c403bcf141e8ac5a3e8d638177696fdb2a1fa7d89ccb4d23"
   }
  }
 },
 "nbformat": 4,
 "nbformat_minor": 2
}
